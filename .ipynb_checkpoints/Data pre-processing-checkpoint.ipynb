{
 "cells": [
  {
   "cell_type": "code",
   "execution_count": 1,
   "id": "d1916633",
   "metadata": {},
   "outputs": [],
   "source": [
    "from sklearn.preprocessing import LabelEncoder\n",
    "\n",
    "from ara_vec_preprocess_configs import *\n",
    "from data_shuffling_split import *"
   ]
  },
  {
   "cell_type": "code",
   "execution_count": 3,
   "id": "248495e4",
   "metadata": {},
   "outputs": [
    {
     "data": {
      "text/html": [
       "<div>\n",
       "<style scoped>\n",
       "    .dataframe tbody tr th:only-of-type {\n",
       "        vertical-align: middle;\n",
       "    }\n",
       "\n",
       "    .dataframe tbody tr th {\n",
       "        vertical-align: top;\n",
       "    }\n",
       "\n",
       "    .dataframe thead th {\n",
       "        text-align: right;\n",
       "    }\n",
       "</style>\n",
       "<table border=\"1\" class=\"dataframe\">\n",
       "  <thead>\n",
       "    <tr style=\"text-align: right;\">\n",
       "      <th></th>\n",
       "      <th>id</th>\n",
       "      <th>dialect</th>\n",
       "      <th>dialect_l_encoded</th>\n",
       "      <th>text</th>\n",
       "    </tr>\n",
       "  </thead>\n",
       "  <tbody>\n",
       "    <tr>\n",
       "      <th>0</th>\n",
       "      <td>521982921184251904</td>\n",
       "      <td>SA</td>\n",
       "      <td>13</td>\n",
       "      <td>ياكثرهم في زمانك وياقلهم في وفاك : ياما سمعنا ...</td>\n",
       "    </tr>\n",
       "    <tr>\n",
       "      <th>1</th>\n",
       "      <td>905803604950470784</td>\n",
       "      <td>BH</td>\n",
       "      <td>1</td>\n",
       "      <td>حسابشخصي انزين انت الحين ما عرفت التسعيره عشان...</td>\n",
       "    </tr>\n",
       "    <tr>\n",
       "      <th>2</th>\n",
       "      <td>498984111034605568</td>\n",
       "      <td>LY</td>\n",
       "      <td>8</td>\n",
       "      <td>حسابشخصي ماعندكمش مطبخ في حوش فيه جو را 😂</td>\n",
       "    </tr>\n",
       "    <tr>\n",
       "      <th>3</th>\n",
       "      <td>1119979622408556416</td>\n",
       "      <td>SY</td>\n",
       "      <td>15</td>\n",
       "      <td>حسابشخصي فصح مجيد وينعاد عليكي بالخير رابطويب</td>\n",
       "    </tr>\n",
       "    <tr>\n",
       "      <th>4</th>\n",
       "      <td>1064139589617664000</td>\n",
       "      <td>KW</td>\n",
       "      <td>6</td>\n",
       "      <td>حسابشخصي الله يسلمج تسلمين وبزود نوركم وطيبكم ...</td>\n",
       "    </tr>\n",
       "  </tbody>\n",
       "</table>\n",
       "</div>"
      ],
      "text/plain": [
       "                    id dialect  dialect_l_encoded  \\\n",
       "0   521982921184251904      SA                 13   \n",
       "1   905803604950470784      BH                  1   \n",
       "2   498984111034605568      LY                  8   \n",
       "3  1119979622408556416      SY                 15   \n",
       "4  1064139589617664000      KW                  6   \n",
       "\n",
       "                                                text  \n",
       "0  ياكثرهم في زمانك وياقلهم في وفاك : ياما سمعنا ...  \n",
       "1  حسابشخصي انزين انت الحين ما عرفت التسعيره عشان...  \n",
       "2         حسابشخصي ماعندكمش مطبخ في حوش فيه جو را 😂   \n",
       "3      حسابشخصي فصح مجيد وينعاد عليكي بالخير رابطويب  \n",
       "4  حسابشخصي الله يسلمج تسلمين وبزود نوركم وطيبكم ...  "
      ]
     },
     "execution_count": 3,
     "metadata": {},
     "output_type": "execute_result"
    }
   ],
   "source": [
    "new_dialect_dataset = read_file(\"dataset/train/strat_train_set.csv\")\n",
    "new_dialect_dataset.head()"
   ]
  },
  {
   "cell_type": "code",
   "execution_count": 4,
   "id": "fb5f69b8",
   "metadata": {},
   "outputs": [
    {
     "data": {
      "text/html": [
       "<div>\n",
       "<style scoped>\n",
       "    .dataframe tbody tr th:only-of-type {\n",
       "        vertical-align: middle;\n",
       "    }\n",
       "\n",
       "    .dataframe tbody tr th {\n",
       "        vertical-align: top;\n",
       "    }\n",
       "\n",
       "    .dataframe thead th {\n",
       "        text-align: right;\n",
       "    }\n",
       "</style>\n",
       "<table border=\"1\" class=\"dataframe\">\n",
       "  <thead>\n",
       "    <tr style=\"text-align: right;\">\n",
       "      <th></th>\n",
       "      <th>id</th>\n",
       "      <th>dialect</th>\n",
       "      <th>dialect_l_encoded</th>\n",
       "      <th>text</th>\n",
       "      <th>label</th>\n",
       "    </tr>\n",
       "  </thead>\n",
       "  <tbody>\n",
       "    <tr>\n",
       "      <th>0</th>\n",
       "      <td>521982921184251904</td>\n",
       "      <td>SA</td>\n",
       "      <td>13</td>\n",
       "      <td>ياكثرهم في زمانك وياقلهم في وفاك : ياما سمعنا ...</td>\n",
       "      <td>13</td>\n",
       "    </tr>\n",
       "    <tr>\n",
       "      <th>1</th>\n",
       "      <td>905803604950470784</td>\n",
       "      <td>BH</td>\n",
       "      <td>1</td>\n",
       "      <td>حسابشخصي انزين انت الحين ما عرفت التسعيره عشان...</td>\n",
       "      <td>1</td>\n",
       "    </tr>\n",
       "    <tr>\n",
       "      <th>2</th>\n",
       "      <td>498984111034605568</td>\n",
       "      <td>LY</td>\n",
       "      <td>8</td>\n",
       "      <td>حسابشخصي ماعندكمش مطبخ في حوش فيه جو را 😂</td>\n",
       "      <td>8</td>\n",
       "    </tr>\n",
       "    <tr>\n",
       "      <th>3</th>\n",
       "      <td>1119979622408556416</td>\n",
       "      <td>SY</td>\n",
       "      <td>15</td>\n",
       "      <td>حسابشخصي فصح مجيد وينعاد عليكي بالخير رابطويب</td>\n",
       "      <td>15</td>\n",
       "    </tr>\n",
       "    <tr>\n",
       "      <th>4</th>\n",
       "      <td>1064139589617664000</td>\n",
       "      <td>KW</td>\n",
       "      <td>6</td>\n",
       "      <td>حسابشخصي الله يسلمج تسلمين وبزود نوركم وطيبكم ...</td>\n",
       "      <td>6</td>\n",
       "    </tr>\n",
       "  </tbody>\n",
       "</table>\n",
       "</div>"
      ],
      "text/plain": [
       "                    id dialect  dialect_l_encoded  \\\n",
       "0   521982921184251904      SA                 13   \n",
       "1   905803604950470784      BH                  1   \n",
       "2   498984111034605568      LY                  8   \n",
       "3  1119979622408556416      SY                 15   \n",
       "4  1064139589617664000      KW                  6   \n",
       "\n",
       "                                                text  label  \n",
       "0  ياكثرهم في زمانك وياقلهم في وفاك : ياما سمعنا ...     13  \n",
       "1  حسابشخصي انزين انت الحين ما عرفت التسعيره عشان...      1  \n",
       "2         حسابشخصي ماعندكمش مطبخ في حوش فيه جو را 😂       8  \n",
       "3      حسابشخصي فصح مجيد وينعاد عليكي بالخير رابطويب     15  \n",
       "4  حسابشخصي الله يسلمج تسلمين وبزود نوركم وطيبكم ...      6  "
      ]
     },
     "execution_count": 4,
     "metadata": {},
     "output_type": "execute_result"
    }
   ],
   "source": [
    "# new_dialect_dataset['label'] = convert_class_to_label(list(new_dialect_dataset['dialect']))\n",
    "# new_dialect_dataset.head()"
   ]
  },
  {
   "cell_type": "code",
   "execution_count": null,
   "id": "7491a4a3",
   "metadata": {},
   "outputs": [],
   "source": [
    "preprocessed_dialect_dataset = read_csv(file_name_to_save)\n",
    "preprocessed_dialect_dataset.head()"
   ]
  },
  {
   "cell_type": "code",
   "execution_count": null,
   "id": "23646ae7",
   "metadata": {},
   "outputs": [],
   "source": [
    "validate_ids_and_dialect(new_dialect_dataset, preprocessed_dialect_dataset)"
   ]
  },
  {
   "cell_type": "markdown",
   "id": "909b54f2",
   "metadata": {},
   "source": [
    "# Shuffle and Split\n",
    "\n",
    "Instead of random shuffle using ordinal **train_test_split**, we use **StratifiedShuffleSplit**, that ensure we have proportions almost identical to the orginal. It help us to make approximate distrbution for samples per class.\n",
    "\n",
    "To do that we pass the most representative attribute of our data, and as we have the dialect column which has 18 different classes, so it will be more representative to distribute sampels per class based on that attribute.\n",
    "\n",
    "**Look at the table below to see how difference between the two method of split**"
   ]
  },
  {
   "cell_type": "code",
   "execution_count": null,
   "id": "18bbde8a",
   "metadata": {},
   "outputs": [],
   "source": [
    "train_set, test_set             = general_split_and_shuffle(preprocessed_dialect_dataset,  .02)\n",
    "strat_train_set, strat_test_set = Stratified_split_and_shuffle(preprocessed_dialect_dataset, \"dialect\", .02)"
   ]
  },
  {
   "cell_type": "code",
   "execution_count": null,
   "id": "4b242732",
   "metadata": {},
   "outputs": [],
   "source": [
    "compare_proportions = compare_random_and_stratified_split(preprocessed_dialect_dataset, test_set, strat_test_set)\n",
    "compare_proportions"
   ]
  },
  {
   "cell_type": "code",
   "execution_count": null,
   "id": "534315d5",
   "metadata": {},
   "outputs": [],
   "source": [
    "strat_train_set_path_to_save = \"strat_train_set.csv\"\n",
    "\n",
    "save_train_test_data(strat_train_set, \"train/\", strat_train_set_path_to_save, data_path=DATA_PATH)"
   ]
  },
  {
   "cell_type": "code",
   "execution_count": null,
   "id": "d92268fc",
   "metadata": {},
   "outputs": [],
   "source": [
    "strat_test_set_path_to_save  = \"strat_test_set.csv\"\n",
    "\n",
    "save_train_test_data(strat_test_set, \"test/\", strat_test_set_path_to_save, data_path=DATA_PATH)"
   ]
  },
  {
   "cell_type": "code",
   "execution_count": null,
   "id": "904952c4",
   "metadata": {},
   "outputs": [],
   "source": [
    "strat_train_set = read_csv(\"train/strat_train_set.csv\")\n",
    "strat_train_set.head()"
   ]
  },
  {
   "cell_type": "code",
   "execution_count": null,
   "id": "6673ecf4",
   "metadata": {},
   "outputs": [],
   "source": [
    "strat_test_set = read_csv(\"test/strat_test_set.csv\")\n",
    "strat_test_set.head()"
   ]
  },
  {
   "cell_type": "code",
   "execution_count": null,
   "id": "a95509b4",
   "metadata": {},
   "outputs": [],
   "source": []
  }
 ],
 "metadata": {
  "kernelspec": {
   "display_name": "Python 3",
   "language": "python",
   "name": "python3"
  },
  "language_info": {
   "codemirror_mode": {
    "name": "ipython",
    "version": 3
   },
   "file_extension": ".py",
   "mimetype": "text/x-python",
   "name": "python",
   "nbconvert_exporter": "python",
   "pygments_lexer": "ipython3",
   "version": "3.6.9"
  }
 },
 "nbformat": 4,
 "nbformat_minor": 5
}
