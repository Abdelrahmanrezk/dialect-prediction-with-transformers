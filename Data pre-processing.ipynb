{
 "cells": [
  {
   "cell_type": "code",
   "execution_count": 1,
   "id": "d1916633",
   "metadata": {},
   "outputs": [],
   "source": [
    "from sklearn.preprocessing import LabelEncoder\n",
    "\n",
    "from ara_vec_preprocess_configs import *\n",
    "from data_shuffling_split import *"
   ]
  },
  {
   "cell_type": "code",
   "execution_count": 2,
   "id": "248495e4",
   "metadata": {},
   "outputs": [
    {
     "data": {
      "text/html": [
       "<div>\n",
       "<style scoped>\n",
       "    .dataframe tbody tr th:only-of-type {\n",
       "        vertical-align: middle;\n",
       "    }\n",
       "\n",
       "    .dataframe tbody tr th {\n",
       "        vertical-align: top;\n",
       "    }\n",
       "\n",
       "    .dataframe thead th {\n",
       "        text-align: right;\n",
       "    }\n",
       "</style>\n",
       "<table border=\"1\" class=\"dataframe\">\n",
       "  <thead>\n",
       "    <tr style=\"text-align: right;\">\n",
       "      <th></th>\n",
       "      <th>id</th>\n",
       "      <th>dialect</th>\n",
       "      <th>dialect_l_encoded</th>\n",
       "      <th>text</th>\n",
       "    </tr>\n",
       "  </thead>\n",
       "  <tbody>\n",
       "    <tr>\n",
       "      <th>0</th>\n",
       "      <td>1056552188082716800</td>\n",
       "      <td>LY</td>\n",
       "      <td>8</td>\n",
       "      <td>توا دوشه الكلاسيكو شن بيتمها وشن بيسكتهم وشن ب...</td>\n",
       "    </tr>\n",
       "    <tr>\n",
       "      <th>1</th>\n",
       "      <td>891734969202114560</td>\n",
       "      <td>SY</td>\n",
       "      <td>15</td>\n",
       "      <td>حسابشخصي في احلي من الشحاطه 😂</td>\n",
       "    </tr>\n",
       "    <tr>\n",
       "      <th>2</th>\n",
       "      <td>1110565179257954432</td>\n",
       "      <td>SD</td>\n",
       "      <td>14</td>\n",
       "      <td>حسابشخصي موهبه والله 😂 اوع تحاول تطورها تقوم م...</td>\n",
       "    </tr>\n",
       "    <tr>\n",
       "      <th>3</th>\n",
       "      <td>1172817955270340608</td>\n",
       "      <td>LB</td>\n",
       "      <td>7</td>\n",
       "      <td>حسابشخصي حسابشخصي 😂 انا صرلي عشر سنين مش مجدده...</td>\n",
       "    </tr>\n",
       "    <tr>\n",
       "      <th>4</th>\n",
       "      <td>293253217821790208</td>\n",
       "      <td>QA</td>\n",
       "      <td>12</td>\n",
       "      <td>احلي شعور تكون باجازه وتقوم من الصبح وتمر ع ال...</td>\n",
       "    </tr>\n",
       "  </tbody>\n",
       "</table>\n",
       "</div>"
      ],
      "text/plain": [
       "                    id dialect  dialect_l_encoded  \\\n",
       "0  1056552188082716800      LY                  8   \n",
       "1   891734969202114560      SY                 15   \n",
       "2  1110565179257954432      SD                 14   \n",
       "3  1172817955270340608      LB                  7   \n",
       "4   293253217821790208      QA                 12   \n",
       "\n",
       "                                                text  \n",
       "0  توا دوشه الكلاسيكو شن بيتمها وشن بيسكتهم وشن ب...  \n",
       "1                     حسابشخصي في احلي من الشحاطه 😂   \n",
       "2  حسابشخصي موهبه والله 😂 اوع تحاول تطورها تقوم م...  \n",
       "3  حسابشخصي حسابشخصي 😂 انا صرلي عشر سنين مش مجدده...  \n",
       "4  احلي شعور تكون باجازه وتقوم من الصبح وتمر ع ال...  "
      ]
     },
     "execution_count": 2,
     "metadata": {},
     "output_type": "execute_result"
    }
   ],
   "source": [
    "new_dialect_dataset = read_file(\"dataset/train/strat_train_set.csv\")\n",
    "new_dialect_dataset.head()"
   ]
  },
  {
   "cell_type": "code",
   "execution_count": 3,
   "id": "fda598ce",
   "metadata": {},
   "outputs": [
    {
     "data": {
      "text/plain": [
       "449033"
      ]
     },
     "execution_count": 3,
     "metadata": {},
     "output_type": "execute_result"
    }
   ],
   "source": [
    "len(new_dialect_dataset)"
   ]
  },
  {
   "cell_type": "code",
   "execution_count": 6,
   "id": "fb5f69b8",
   "metadata": {},
   "outputs": [
    {
     "name": "stdout",
     "output_type": "stream",
     "text": [
      "The number of instances in the training data after train_test_split are:  440052\n",
      "The number of instances in the testing data after train_test_split are:   8981\n",
      "The number of instances in the training data after StratifiedShuffleSplit are:  440052\n",
      "The number of instances in the testing data after StratifiedShuffleSplit are:   8981\n"
     ]
    }
   ],
   "source": [
    "preprocessed_new_dialect_dataset = new_dialect_dataset.copy()\n",
    "train_set, test_set             = general_split_and_shuffle(preprocessed_new_dialect_dataset,  .02)\n",
    "strat_train_set, strat_test_set = Stratified_split_and_shuffle(preprocessed_new_dialect_dataset, \"dialect_l_encoded\", .02)"
   ]
  },
  {
   "cell_type": "code",
   "execution_count": 9,
   "id": "0b0f5ac9",
   "metadata": {},
   "outputs": [
    {
     "data": {
      "text/html": [
       "<div>\n",
       "<style scoped>\n",
       "    .dataframe tbody tr th:only-of-type {\n",
       "        vertical-align: middle;\n",
       "    }\n",
       "\n",
       "    .dataframe tbody tr th {\n",
       "        vertical-align: top;\n",
       "    }\n",
       "\n",
       "    .dataframe thead th {\n",
       "        text-align: right;\n",
       "    }\n",
       "</style>\n",
       "<table border=\"1\" class=\"dataframe\">\n",
       "  <thead>\n",
       "    <tr style=\"text-align: right;\">\n",
       "      <th></th>\n",
       "      <th>Overall</th>\n",
       "      <th>stratified_test</th>\n",
       "      <th>random_test</th>\n",
       "      <th>stratified_test. %error</th>\n",
       "      <th>random_test. %error</th>\n",
       "    </tr>\n",
       "  </thead>\n",
       "  <tbody>\n",
       "    <tr>\n",
       "      <th>0</th>\n",
       "      <td>0.057390</td>\n",
       "      <td>0.057455</td>\n",
       "      <td>0.054560</td>\n",
       "      <td>0.112624</td>\n",
       "      <td>-4.931810</td>\n",
       "    </tr>\n",
       "    <tr>\n",
       "      <th>1</th>\n",
       "      <td>0.057381</td>\n",
       "      <td>0.057343</td>\n",
       "      <td>0.060684</td>\n",
       "      <td>-0.065881</td>\n",
       "      <td>5.755524</td>\n",
       "    </tr>\n",
       "    <tr>\n",
       "      <th>2</th>\n",
       "      <td>0.035318</td>\n",
       "      <td>0.035297</td>\n",
       "      <td>0.039528</td>\n",
       "      <td>-0.060534</td>\n",
       "      <td>11.919592</td>\n",
       "    </tr>\n",
       "    <tr>\n",
       "      <th>3</th>\n",
       "      <td>0.125788</td>\n",
       "      <td>0.125821</td>\n",
       "      <td>0.127603</td>\n",
       "      <td>0.026311</td>\n",
       "      <td>1.442612</td>\n",
       "    </tr>\n",
       "    <tr>\n",
       "      <th>4</th>\n",
       "      <td>0.033822</td>\n",
       "      <td>0.033849</td>\n",
       "      <td>0.033738</td>\n",
       "      <td>0.081811</td>\n",
       "      <td>-0.247406</td>\n",
       "    </tr>\n",
       "    <tr>\n",
       "      <th>5</th>\n",
       "      <td>0.060938</td>\n",
       "      <td>0.060906</td>\n",
       "      <td>0.062243</td>\n",
       "      <td>-0.051293</td>\n",
       "      <td>2.141366</td>\n",
       "    </tr>\n",
       "    <tr>\n",
       "      <th>6</th>\n",
       "      <td>0.091902</td>\n",
       "      <td>0.091861</td>\n",
       "      <td>0.091972</td>\n",
       "      <td>-0.044979</td>\n",
       "      <td>0.076178</td>\n",
       "    </tr>\n",
       "    <tr>\n",
       "      <th>7</th>\n",
       "      <td>0.060274</td>\n",
       "      <td>0.060238</td>\n",
       "      <td>0.061686</td>\n",
       "      <td>-0.059206</td>\n",
       "      <td>2.342329</td>\n",
       "    </tr>\n",
       "    <tr>\n",
       "      <th>8</th>\n",
       "      <td>0.079658</td>\n",
       "      <td>0.079724</td>\n",
       "      <td>0.083621</td>\n",
       "      <td>0.082878</td>\n",
       "      <td>4.975198</td>\n",
       "    </tr>\n",
       "    <tr>\n",
       "      <th>9</th>\n",
       "      <td>0.025183</td>\n",
       "      <td>0.025164</td>\n",
       "      <td>0.023049</td>\n",
       "      <td>-0.074529</td>\n",
       "      <td>-8.475343</td>\n",
       "    </tr>\n",
       "    <tr>\n",
       "      <th>10</th>\n",
       "      <td>0.041721</td>\n",
       "      <td>0.041755</td>\n",
       "      <td>0.039417</td>\n",
       "      <td>0.081617</td>\n",
       "      <td>-5.522953</td>\n",
       "    </tr>\n",
       "    <tr>\n",
       "      <th>11</th>\n",
       "      <td>0.095465</td>\n",
       "      <td>0.095424</td>\n",
       "      <td>0.090079</td>\n",
       "      <td>-0.043442</td>\n",
       "      <td>-5.641942</td>\n",
       "    </tr>\n",
       "    <tr>\n",
       "      <th>12</th>\n",
       "      <td>0.067808</td>\n",
       "      <td>0.067810</td>\n",
       "      <td>0.065026</td>\n",
       "      <td>0.002783</td>\n",
       "      <td>-4.102422</td>\n",
       "    </tr>\n",
       "    <tr>\n",
       "      <th>13</th>\n",
       "      <td>0.058559</td>\n",
       "      <td>0.058568</td>\n",
       "      <td>0.058123</td>\n",
       "      <td>0.015229</td>\n",
       "      <td>-0.745344</td>\n",
       "    </tr>\n",
       "    <tr>\n",
       "      <th>14</th>\n",
       "      <td>0.031501</td>\n",
       "      <td>0.031511</td>\n",
       "      <td>0.029952</td>\n",
       "      <td>0.031561</td>\n",
       "      <td>-4.916997</td>\n",
       "    </tr>\n",
       "    <tr>\n",
       "      <th>15</th>\n",
       "      <td>0.035447</td>\n",
       "      <td>0.035408</td>\n",
       "      <td>0.037301</td>\n",
       "      <td>-0.110586</td>\n",
       "      <td>5.229414</td>\n",
       "    </tr>\n",
       "    <tr>\n",
       "      <th>16</th>\n",
       "      <td>0.020179</td>\n",
       "      <td>0.020154</td>\n",
       "      <td>0.018483</td>\n",
       "      <td>-0.125181</td>\n",
       "      <td>-8.402099</td>\n",
       "    </tr>\n",
       "    <tr>\n",
       "      <th>17</th>\n",
       "      <td>0.021667</td>\n",
       "      <td>0.021713</td>\n",
       "      <td>0.022937</td>\n",
       "      <td>0.212056</td>\n",
       "      <td>5.865043</td>\n",
       "    </tr>\n",
       "  </tbody>\n",
       "</table>\n",
       "</div>"
      ],
      "text/plain": [
       "     Overall  stratified_test  random_test  stratified_test. %error  \\\n",
       "0   0.057390         0.057455     0.054560                 0.112624   \n",
       "1   0.057381         0.057343     0.060684                -0.065881   \n",
       "2   0.035318         0.035297     0.039528                -0.060534   \n",
       "3   0.125788         0.125821     0.127603                 0.026311   \n",
       "4   0.033822         0.033849     0.033738                 0.081811   \n",
       "5   0.060938         0.060906     0.062243                -0.051293   \n",
       "6   0.091902         0.091861     0.091972                -0.044979   \n",
       "7   0.060274         0.060238     0.061686                -0.059206   \n",
       "8   0.079658         0.079724     0.083621                 0.082878   \n",
       "9   0.025183         0.025164     0.023049                -0.074529   \n",
       "10  0.041721         0.041755     0.039417                 0.081617   \n",
       "11  0.095465         0.095424     0.090079                -0.043442   \n",
       "12  0.067808         0.067810     0.065026                 0.002783   \n",
       "13  0.058559         0.058568     0.058123                 0.015229   \n",
       "14  0.031501         0.031511     0.029952                 0.031561   \n",
       "15  0.035447         0.035408     0.037301                -0.110586   \n",
       "16  0.020179         0.020154     0.018483                -0.125181   \n",
       "17  0.021667         0.021713     0.022937                 0.212056   \n",
       "\n",
       "    random_test. %error  \n",
       "0             -4.931810  \n",
       "1              5.755524  \n",
       "2             11.919592  \n",
       "3              1.442612  \n",
       "4             -0.247406  \n",
       "5              2.141366  \n",
       "6              0.076178  \n",
       "7              2.342329  \n",
       "8              4.975198  \n",
       "9             -8.475343  \n",
       "10            -5.522953  \n",
       "11            -5.641942  \n",
       "12            -4.102422  \n",
       "13            -0.745344  \n",
       "14            -4.916997  \n",
       "15             5.229414  \n",
       "16            -8.402099  \n",
       "17             5.865043  "
      ]
     },
     "execution_count": 9,
     "metadata": {},
     "output_type": "execute_result"
    }
   ],
   "source": [
    "compare_proportions = compare_random_and_stratified_split(preprocessed_new_dialect_dataset, test_set, strat_test_set, \"dialect_l_encoded\")\n",
    "compare_proportions"
   ]
  },
  {
   "cell_type": "code",
   "execution_count": 11,
   "id": "7491a4a3",
   "metadata": {},
   "outputs": [
    {
     "data": {
      "text/plain": [
       "True"
      ]
     },
     "execution_count": 11,
     "metadata": {},
     "output_type": "execute_result"
    }
   ],
   "source": [
    "strat_train_set_path_to_save = \"strat_train_set.csv\"\n",
    "\n",
    "save_train_test_data(strat_train_set, \"dataset/train/\", strat_train_set_path_to_save)"
   ]
  },
  {
   "cell_type": "code",
   "execution_count": 14,
   "id": "315d4243",
   "metadata": {},
   "outputs": [
    {
     "data": {
      "text/html": [
       "<div>\n",
       "<style scoped>\n",
       "    .dataframe tbody tr th:only-of-type {\n",
       "        vertical-align: middle;\n",
       "    }\n",
       "\n",
       "    .dataframe tbody tr th {\n",
       "        vertical-align: top;\n",
       "    }\n",
       "\n",
       "    .dataframe thead th {\n",
       "        text-align: right;\n",
       "    }\n",
       "</style>\n",
       "<table border=\"1\" class=\"dataframe\">\n",
       "  <thead>\n",
       "    <tr style=\"text-align: right;\">\n",
       "      <th></th>\n",
       "      <th>id</th>\n",
       "      <th>dialect</th>\n",
       "      <th>dialect_l_encoded</th>\n",
       "      <th>text</th>\n",
       "    </tr>\n",
       "  </thead>\n",
       "  <tbody>\n",
       "    <tr>\n",
       "      <th>0</th>\n",
       "      <td>466624110593052672</td>\n",
       "      <td>OM</td>\n",
       "      <td>10</td>\n",
       "      <td>حسابشخصي حسابشخصي حسابشخصي حسابشخصي حسابشخصي ح...</td>\n",
       "    </tr>\n",
       "    <tr>\n",
       "      <th>1</th>\n",
       "      <td>470094971731603456</td>\n",
       "      <td>BH</td>\n",
       "      <td>1</td>\n",
       "      <td>تصبحون علي خير احبائي good night to all رابطويب</td>\n",
       "    </tr>\n",
       "    <tr>\n",
       "      <th>2</th>\n",
       "      <td>1155509448317841408</td>\n",
       "      <td>DZ</td>\n",
       "      <td>2</td>\n",
       "      <td>حسابشخصي تسلمين اثار هذا تيم ابن اختي</td>\n",
       "    </tr>\n",
       "    <tr>\n",
       "      <th>3</th>\n",
       "      <td>808453802147938304</td>\n",
       "      <td>SY</td>\n",
       "      <td>15</td>\n",
       "      <td>حسابشخصي خليك عند جحشك السيسي</td>\n",
       "    </tr>\n",
       "    <tr>\n",
       "      <th>4</th>\n",
       "      <td>565136236025618432</td>\n",
       "      <td>SY</td>\n",
       "      <td>15</td>\n",
       "      <td>اشتقنا عليكي كتير كتير وحلا نرجعلك حلا سوريا ك...</td>\n",
       "    </tr>\n",
       "  </tbody>\n",
       "</table>\n",
       "</div>"
      ],
      "text/plain": [
       "                    id dialect  dialect_l_encoded  \\\n",
       "0   466624110593052672      OM                 10   \n",
       "1   470094971731603456      BH                  1   \n",
       "2  1155509448317841408      DZ                  2   \n",
       "3   808453802147938304      SY                 15   \n",
       "4   565136236025618432      SY                 15   \n",
       "\n",
       "                                                text  \n",
       "0  حسابشخصي حسابشخصي حسابشخصي حسابشخصي حسابشخصي ح...  \n",
       "1    تصبحون علي خير احبائي good night to all رابطويب  \n",
       "2              حسابشخصي تسلمين اثار هذا تيم ابن اختي  \n",
       "3                      حسابشخصي خليك عند جحشك السيسي  \n",
       "4  اشتقنا عليكي كتير كتير وحلا نرجعلك حلا سوريا ك...  "
      ]
     },
     "execution_count": 14,
     "metadata": {},
     "output_type": "execute_result"
    }
   ],
   "source": [
    "new_dialect_dataset = read_file(\"dataset/train/strat_train_set.csv\")\n",
    "new_dialect_dataset.head()"
   ]
  },
  {
   "cell_type": "code",
   "execution_count": 15,
   "id": "fa622fe8",
   "metadata": {},
   "outputs": [
    {
     "data": {
      "text/plain": [
       "440052"
      ]
     },
     "execution_count": 15,
     "metadata": {},
     "output_type": "execute_result"
    }
   ],
   "source": [
    "len(new_dialect_dataset)"
   ]
  },
  {
   "cell_type": "code",
   "execution_count": 16,
   "id": "23646ae7",
   "metadata": {},
   "outputs": [
    {
     "data": {
      "text/plain": [
       "True"
      ]
     },
     "execution_count": 16,
     "metadata": {},
     "output_type": "execute_result"
    }
   ],
   "source": [
    "strat_test_set_path_to_save  = \"strat_val_set.csv\"\n",
    "\n",
    "save_train_test_data(strat_test_set, \"dataset/validation/\", strat_test_set_path_to_save)"
   ]
  },
  {
   "cell_type": "markdown",
   "id": "909b54f2",
   "metadata": {},
   "source": [
    "# Shuffle and Split\n",
    "\n",
    "Instead of random shuffle using ordinal **train_test_split**, we use **StratifiedShuffleSplit**, that ensure we have proportions almost identical to the orginal. It help us to make approximate distrbution for samples per class.\n",
    "\n",
    "To do that we pass the most representative attribute of our data, and as we have the dialect column which has 18 different classes, so it will be more representative to distribute sampels per class based on that attribute.\n",
    "\n",
    "**Look at the table below to see how difference between the two method of split**"
   ]
  },
  {
   "cell_type": "code",
   "execution_count": null,
   "id": "18bbde8a",
   "metadata": {},
   "outputs": [],
   "source": [
    "train_set, test_set             = general_split_and_shuffle(preprocessed_dialect_dataset,  .02)\n",
    "strat_train_set, strat_test_set = Stratified_split_and_shuffle(preprocessed_dialect_dataset, \"dialect\", .02)"
   ]
  },
  {
   "cell_type": "code",
   "execution_count": null,
   "id": "4b242732",
   "metadata": {},
   "outputs": [],
   "source": [
    "compare_proportions = compare_random_and_stratified_split(preprocessed_dialect_dataset, test_set, strat_test_set)\n",
    "compare_proportions"
   ]
  },
  {
   "cell_type": "code",
   "execution_count": null,
   "id": "534315d5",
   "metadata": {},
   "outputs": [],
   "source": [
    "strat_train_set_path_to_save = \"strat_train_set.csv\"\n",
    "\n",
    "save_train_test_data(strat_train_set, \"train/\", strat_train_set_path_to_save, data_path=DATA_PATH)"
   ]
  },
  {
   "cell_type": "code",
   "execution_count": null,
   "id": "d92268fc",
   "metadata": {},
   "outputs": [],
   "source": [
    "strat_test_set_path_to_save  = \"strat_test_set.csv\"\n",
    "\n",
    "save_train_test_data(strat_test_set, \"test/\", strat_test_set_path_to_save, data_path=DATA_PATH)"
   ]
  },
  {
   "cell_type": "code",
   "execution_count": null,
   "id": "904952c4",
   "metadata": {},
   "outputs": [],
   "source": [
    "strat_train_set = read_csv(\"train/strat_train_set.csv\")\n",
    "strat_train_set.head()"
   ]
  },
  {
   "cell_type": "code",
   "execution_count": null,
   "id": "6673ecf4",
   "metadata": {},
   "outputs": [],
   "source": [
    "strat_test_set = read_csv(\"test/strat_test_set.csv\")\n",
    "strat_test_set.head()"
   ]
  },
  {
   "cell_type": "code",
   "execution_count": null,
   "id": "a95509b4",
   "metadata": {},
   "outputs": [],
   "source": []
  }
 ],
 "metadata": {
  "kernelspec": {
   "display_name": "Python 3",
   "language": "python",
   "name": "python3"
  },
  "language_info": {
   "codemirror_mode": {
    "name": "ipython",
    "version": 3
   },
   "file_extension": ".py",
   "mimetype": "text/x-python",
   "name": "python",
   "nbconvert_exporter": "python",
   "pygments_lexer": "ipython3",
   "version": "3.6.9"
  }
 },
 "nbformat": 4,
 "nbformat_minor": 5
}
