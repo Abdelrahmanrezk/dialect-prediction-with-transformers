{
 "cells": [
  {
   "cell_type": "code",
   "execution_count": null,
   "id": "0fe26f41",
   "metadata": {},
   "outputs": [],
   "source": [
    "import sys\n",
    "sys.path.append('../assets/')"
   ]
  },
  {
   "cell_type": "code",
   "execution_count": null,
   "id": "d1916633",
   "metadata": {},
   "outputs": [],
   "source": [
    "# Main libraries\n",
    "from data_shuffling_split import *"
   ]
  },
  {
   "cell_type": "code",
   "execution_count": null,
   "id": "248495e4",
   "metadata": {},
   "outputs": [],
   "source": [
    "dialect_dataset = read_file(\"../dataset/dialect_data/dialect_dataset_with_text.csv\")\n",
    "dialect_dataset.head()"
   ]
  },
  {
   "cell_type": "markdown",
   "id": "909b54f2",
   "metadata": {},
   "source": [
    "# Shuffle and Split\n",
    "\n",
    "Instead of random shuffle using ordinal **train_test_split**, we use **StratifiedShuffleSplit**, that ensure we have proportions almost identical to the orginal. It help us to make approximate distrbution for samples per class.\n",
    "\n",
    "To do that we pass the most representative attribute of our data, and as we have the dialect column which has 18 different classes, so it will be more representative to distribute sampels per class based on that attribute.\n",
    "\n",
    "**Look at the table below to see how difference between the two method of split**"
   ]
  },
  {
   "cell_type": "markdown",
   "id": "821907d7",
   "metadata": {},
   "source": [
    "# Train & Dev set"
   ]
  },
  {
   "cell_type": "code",
   "execution_count": null,
   "id": "18bbde8a",
   "metadata": {},
   "outputs": [],
   "source": [
    "train_set, dev_set             = general_split_and_shuffle(dialect_dataset,  .02)\n",
    "strat_train_set, strat_dev_set = Stratified_split_and_shuffle(dialect_dataset, \"dialect\", .02)"
   ]
  },
  {
   "cell_type": "code",
   "execution_count": null,
   "id": "5aa88b76",
   "metadata": {},
   "outputs": [],
   "source": [
    "compare_proportions            = compare_random_and_stratified_split(dialect_dataset, \n",
    "                                                                      dev_set, strat_dev_set, \"dialect\")\n",
    "compare_proportions"
   ]
  },
  {
   "cell_type": "code",
   "execution_count": null,
   "id": "e2dbb05d",
   "metadata": {},
   "outputs": [],
   "source": [
    "strat_dev_set_path_to_save = \"strat_dev_set.csv\"\n",
    "\n",
    "save_train_test_data(strat_dev_set, \"../dataset/dialect_data/validation/\", strat_dev_set_path_to_save)"
   ]
  },
  {
   "cell_type": "code",
   "execution_count": null,
   "id": "76346edb",
   "metadata": {},
   "outputs": [],
   "source": [
    "print(len(dialect_dataset))\n",
    "print(len(strat_dev_set))\n",
    "print(len(strat_train_set))"
   ]
  },
  {
   "cell_type": "code",
   "execution_count": null,
   "id": "5fc0d56e",
   "metadata": {},
   "outputs": [],
   "source": [
    "9164 + 449033"
   ]
  },
  {
   "cell_type": "markdown",
   "id": "ac115592",
   "metadata": {},
   "source": [
    "# Train & Test set"
   ]
  },
  {
   "cell_type": "code",
   "execution_count": null,
   "id": "c930cccf",
   "metadata": {},
   "outputs": [],
   "source": [
    "train_set, test_set              = general_split_and_shuffle(strat_train_set,  .02)\n",
    "strat_train_set, strat_test_set  = Stratified_split_and_shuffle(strat_train_set, \"dialect\", .02)"
   ]
  },
  {
   "cell_type": "code",
   "execution_count": null,
   "id": "4b242732",
   "metadata": {},
   "outputs": [],
   "source": [
    "compare_proportions            = compare_random_and_stratified_split(dialect_dataset, \n",
    "                                                                      test_set, strat_test_set, \"dialect\")\n",
    "compare_proportions"
   ]
  },
  {
   "cell_type": "code",
   "execution_count": null,
   "id": "534315d5",
   "metadata": {},
   "outputs": [],
   "source": [
    "strat_test_set_path_to_save  = \"strat_test_set.csv\"\n",
    "\n",
    "save_train_test_data(strat_test_set, \"../dataset/dialect_data/test/\", strat_test_set_path_to_save)"
   ]
  },
  {
   "cell_type": "code",
   "execution_count": null,
   "id": "80f715a8",
   "metadata": {},
   "outputs": [],
   "source": [
    "strat_train_set_path_to_save  = \"strat_train_set.csv\"\n",
    "\n",
    "save_train_test_data(strat_train_set, \"../dataset/dialect_data/train/\", strat_train_set_path_to_save)"
   ]
  },
  {
   "cell_type": "code",
   "execution_count": null,
   "id": "904952c4",
   "metadata": {},
   "outputs": [],
   "source": [
    "strat_train_set = read_file(\"../dataset/dialect_data/train/\" + strat_train_set_path_to_save)\n",
    "strat_train_set.head()"
   ]
  },
  {
   "cell_type": "code",
   "execution_count": null,
   "id": "6673ecf4",
   "metadata": {},
   "outputs": [],
   "source": [
    "strat_test_set = read_file(\"../dataset/dialect_data/test/\" + strat_test_set_path_to_save)\n",
    "strat_test_set.head()"
   ]
  },
  {
   "cell_type": "code",
   "execution_count": null,
   "id": "a95509b4",
   "metadata": {},
   "outputs": [],
   "source": [
    "strat_dev_set = read_file(\"../dataset/dialect_data/validation/\" + strat_dev_set_path_to_save)\n",
    "strat_train_set.head()"
   ]
  },
  {
   "cell_type": "code",
   "execution_count": null,
   "id": "aa9357d9",
   "metadata": {},
   "outputs": [],
   "source": [
    "print(len(dialect_dataset))\n",
    "print(len(strat_train_set))\n",
    "print(len(strat_dev_set))\n",
    "print(len(strat_test_set))"
   ]
  },
  {
   "cell_type": "code",
   "execution_count": null,
   "id": "d10101b6",
   "metadata": {},
   "outputs": [],
   "source": [
    "print(len(dialect_dataset) == (len(strat_train_set) + len(strat_dev_set) + len(strat_test_set)))"
   ]
  },
  {
   "cell_type": "code",
   "execution_count": null,
   "id": "63259281",
   "metadata": {},
   "outputs": [],
   "source": []
  },
  {
   "cell_type": "code",
   "execution_count": null,
   "id": "85725eb7",
   "metadata": {},
   "outputs": [],
   "source": []
  }
 ],
 "metadata": {
  "kernelspec": {
   "display_name": "Python 3 (ipykernel)",
   "language": "python",
   "name": "python3"
  },
  "language_info": {
   "codemirror_mode": {
    "name": "ipython",
    "version": 3
   },
   "file_extension": ".py",
   "mimetype": "text/x-python",
   "name": "python",
   "nbconvert_exporter": "python",
   "pygments_lexer": "ipython3",
   "version": "3.8.13"
  }
 },
 "nbformat": 4,
 "nbformat_minor": 5
}
