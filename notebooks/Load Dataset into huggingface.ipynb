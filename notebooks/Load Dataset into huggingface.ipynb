{
 "cells": [
  {
   "cell_type": "code",
   "execution_count": null,
   "id": "f666db19",
   "metadata": {},
   "outputs": [],
   "source": [
    "import sys\n",
    "sys.path.append('../assets/')"
   ]
  },
  {
   "cell_type": "code",
   "execution_count": null,
   "id": "659d813a",
   "metadata": {},
   "outputs": [],
   "source": [
    "# Main libraries\n",
    "from data_shuffling_split import *\n",
    "\n",
    "from datasets import load_dataset, list_datasets, Dataset, DatasetDict, ClassLabel\n",
    "from transformers import AutoModel, AutoTokenizer"
   ]
  },
  {
   "cell_type": "markdown",
   "id": "08b853aa",
   "metadata": {},
   "source": [
    "# The Dataset\n",
    "\n",
    "The hugginface datasets library used either to use avaliable datasets on the hub or either to use your own dataset.\n",
    "\n",
    "### Load from avaliable data"
   ]
  },
  {
   "cell_type": "code",
   "execution_count": null,
   "id": "e75c2dc8",
   "metadata": {},
   "outputs": [],
   "source": [
    "avaliable_dataset = list_datasets()\n",
    "print(len(avaliable_dataset))\n",
    "print(avaliable_dataset[:5])"
   ]
  },
  {
   "cell_type": "code",
   "execution_count": null,
   "id": "a8cf52a1",
   "metadata": {},
   "outputs": [],
   "source": [
    "emtions_data = load_dataset('emotion')\n",
    "emtions_data"
   ]
  },
  {
   "cell_type": "code",
   "execution_count": null,
   "id": "5f60f5fc",
   "metadata": {},
   "outputs": [],
   "source": [
    "print(emtions_data['train'].features)"
   ]
  },
  {
   "cell_type": "code",
   "execution_count": null,
   "id": "b5071562",
   "metadata": {},
   "outputs": [],
   "source": [
    "emtions_data['train'][:5]"
   ]
  },
  {
   "cell_type": "markdown",
   "id": "7c57d71b",
   "metadata": {},
   "source": [
    "## Use our datasets"
   ]
  },
  {
   "cell_type": "code",
   "execution_count": null,
   "id": "a5335188",
   "metadata": {},
   "outputs": [],
   "source": [
    "strat_train_set = read_file(\"../dataset/dialect_data/train/strat_train_set.csv\")\n",
    "strat_dev_set   = read_file(\"../dataset/dialect_data/validation/strat_dev_set.csv\")\n",
    "strat_test_set  = read_file(\"../dataset/dialect_data/test/strat_test_set.csv\")\n",
    "\n",
    "strat_train_set.columns = ['id', 'label', 'text']\n",
    "strat_dev_set.columns   = ['id', 'label', 'text']\n",
    "strat_test_set.columns  = ['id', 'label', 'text']\n",
    "\n",
    "print(type(strat_train_set))\n",
    "\n",
    "# Convert to Dataset Apache arrow\n",
    "ds_strat_train_set = Dataset.from_pandas(strat_train_set)\n",
    "ds_strat_dev_set   = Dataset.from_pandas(strat_dev_set)\n",
    "ds_strat_test_set  = Dataset.from_pandas(strat_test_set)\n",
    "print(\"=\"*50)\n",
    "\n",
    "print(type(ds_strat_train_set))"
   ]
  },
  {
   "cell_type": "markdown",
   "id": "365df289",
   "metadata": {},
   "source": [
    "# Convert dialect string to class label\n",
    "\n",
    "In this case we can easily convert to the correspond dialect when we need."
   ]
  },
  {
   "cell_type": "code",
   "execution_count": null,
   "id": "1ba3cda0",
   "metadata": {},
   "outputs": [],
   "source": [
    "labels = list(set(ds_strat_train_set['label']))\n",
    "print(labels)\n",
    "print(\"=\"*50)\n",
    "print(len(labels))\n",
    "print(\"=\"*50)\n",
    "ClassLabels = ClassLabel(num_classes=len(labels), names=labels)\n",
    "print(ClassLabels)"
   ]
  },
  {
   "cell_type": "code",
   "execution_count": null,
   "id": "41fbefbf",
   "metadata": {},
   "outputs": [],
   "source": [
    "# Look how the labels are string\n",
    "print(ds_strat_train_set.features)"
   ]
  },
  {
   "cell_type": "code",
   "execution_count": null,
   "id": "f110719b",
   "metadata": {},
   "outputs": [],
   "source": [
    "# Mapping Labels to IDs\n",
    "def map_dialect_str2int(data):\n",
    "    data['label'] = ClassLabels.str2int(data['label'])\n",
    "    return data\n",
    "\n",
    "ds_strat_train_set = ds_strat_train_set.map(map_dialect_str2int, batched=True)\n",
    "# Casting label column to ClassLabel Object\n",
    "ds_strat_train_set = ds_strat_train_set.cast_column('label', ClassLabels)\n",
    "\n",
    "\n",
    "\n",
    "ds_strat_dev_set = ds_strat_dev_set.map(map_dialect_str2int, batched=True)\n",
    "# Casting label column to ClassLabel Object\n",
    "ds_strat_dev_set = ds_strat_dev_set.cast_column('label', ClassLabels)\n",
    "\n",
    "\n",
    "ds_strat_test_set = ds_strat_test_set.map(map_dialect_str2int, batched=True)\n",
    "# Casting label column to ClassLabel Object\n",
    "ds_strat_test_set = ds_strat_test_set.cast_column('label', ClassLabels)"
   ]
  },
  {
   "cell_type": "code",
   "execution_count": null,
   "id": "c28009c6",
   "metadata": {},
   "outputs": [],
   "source": [
    "# Look how the labels are now ClassLabels\n",
    "print(ds_strat_train_set.features)"
   ]
  },
  {
   "cell_type": "markdown",
   "id": "b7a59e91",
   "metadata": {},
   "source": [
    "# Compare "
   ]
  },
  {
   "cell_type": "code",
   "execution_count": null,
   "id": "305fef49",
   "metadata": {},
   "outputs": [],
   "source": [
    "print(\"==================== Check our conversation ====================\")\n",
    "print(list(strat_train_set['label']) == ClassLabels.int2str(ds_strat_train_set['label']))\n",
    "print(list(strat_dev_set['label'])   == ClassLabels.int2str(ds_strat_dev_set['label']))\n",
    "print(list(strat_test_set['label']) == ClassLabels.int2str(ds_strat_test_set['label']))\n",
    "\n",
    "print(list(strat_train_set['label'])[:5])\n",
    "print(ClassLabels.int2str(ds_strat_train_set['label'][:5]))\n",
    "\n",
    "print(\"=\"*50)\n",
    "\n",
    "print(list(strat_dev_set['label'])[:5])\n",
    "print(ClassLabels.int2str(ds_strat_dev_set['label'][:5]))\n",
    "\n",
    "\n",
    "print(\"=\"*50)\n",
    "\n",
    "print(list(strat_test_set['label'])[:5])\n",
    "print(ClassLabels.int2str(ds_strat_test_set['label'][:5]))\n"
   ]
  },
  {
   "cell_type": "code",
   "execution_count": null,
   "id": "ee400c85",
   "metadata": {},
   "outputs": [],
   "source": [
    "dialect_datasets = DatasetDict()\n",
    "\n",
    "dialect_datasets['train']      = ds_strat_train_set\n",
    "dialect_datasets['validation'] = ds_strat_dev_set\n",
    "dialect_datasets['test']       = ds_strat_test_set\n",
    "\n",
    "dialect_datasets"
   ]
  },
  {
   "cell_type": "code",
   "execution_count": null,
   "id": "34340d18",
   "metadata": {},
   "outputs": [],
   "source": [
    "print(dialect_datasets['train'].features)\n",
    "print(\"=\"*50)\n",
    "print(dialect_datasets['validation'].features)\n",
    "print(\"=\"*50)\n",
    "print(dialect_datasets['test'].features)"
   ]
  },
  {
   "cell_type": "code",
   "execution_count": null,
   "id": "bf4c9813",
   "metadata": {},
   "outputs": [],
   "source": [
    "train = dialect_datasets['train']\n",
    "train[:3]"
   ]
  },
  {
   "cell_type": "markdown",
   "id": "79f90c9f",
   "metadata": {},
   "source": [
    "# Push the data into the hub"
   ]
  },
  {
   "cell_type": "code",
   "execution_count": null,
   "id": "d5bfd18e",
   "metadata": {},
   "outputs": [],
   "source": [
    "from huggingface_hub import notebook_login\n",
    "\n",
    "notebook_login()"
   ]
  },
  {
   "cell_type": "code",
   "execution_count": null,
   "id": "d613ec96",
   "metadata": {},
   "outputs": [],
   "source": [
    "dialect_datasets.push_to_hub('Abdelrahman-Rezk/Arabic_Dialect_Identification')"
   ]
  },
  {
   "cell_type": "code",
   "execution_count": null,
   "id": "904686dc",
   "metadata": {},
   "outputs": [],
   "source": []
  }
 ],
 "metadata": {
  "kernelspec": {
   "display_name": "Python 3",
   "language": "python",
   "name": "python3"
  },
  "language_info": {
   "codemirror_mode": {
    "name": "ipython",
    "version": 3
   },
   "file_extension": ".py",
   "mimetype": "text/x-python",
   "name": "python",
   "nbconvert_exporter": "python",
   "pygments_lexer": "ipython3",
   "version": "3.6.9"
  }
 },
 "nbformat": 4,
 "nbformat_minor": 5
}
