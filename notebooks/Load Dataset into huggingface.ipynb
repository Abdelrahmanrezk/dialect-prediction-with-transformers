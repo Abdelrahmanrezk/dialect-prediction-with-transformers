{
 "cells": [
  {
   "cell_type": "code",
   "execution_count": 1,
   "id": "f666db19",
   "metadata": {},
   "outputs": [],
   "source": [
    "import sys\n",
    "sys.path.append('../assets/')"
   ]
  },
  {
   "cell_type": "code",
   "execution_count": 2,
   "id": "659d813a",
   "metadata": {},
   "outputs": [],
   "source": [
    "# Main libraries\n",
    "from data_shuffling_split import *\n",
    "from preprocess_text import *\n",
    "from datasets import load_dataset, list_datasets, Dataset, DatasetDict, ClassLabel\n",
    "from transformers import AutoModel, AutoTokenizer"
   ]
  },
  {
   "cell_type": "markdown",
   "id": "08b853aa",
   "metadata": {},
   "source": [
    "# The Dataset\n",
    "\n",
    "The hugginface datasets library used either to use avaliable datasets on the hub or either to use your own dataset.\n",
    "\n",
    "### Load from avaliable data"
   ]
  },
  {
   "cell_type": "code",
   "execution_count": 3,
   "id": "e75c2dc8",
   "metadata": {},
   "outputs": [
    {
     "name": "stdout",
     "output_type": "stream",
     "text": [
      "4865\n",
      "['acronym_identification', 'ade_corpus_v2', 'adversarial_qa', 'aeslc', 'afrikaans_ner_corpus']\n"
     ]
    }
   ],
   "source": [
    "avaliable_dataset = list_datasets()\n",
    "print(len(avaliable_dataset))\n",
    "print(avaliable_dataset[:5])"
   ]
  },
  {
   "cell_type": "code",
   "execution_count": 4,
   "id": "a8cf52a1",
   "metadata": {},
   "outputs": [
    {
     "data": {
      "application/vnd.jupyter.widget-view+json": {
       "model_id": "645b415ead3143d4b36df455a225852e",
       "version_major": 2,
       "version_minor": 0
      },
      "text/plain": [
       "Downloading builder script:   0%|          | 0.00/1.66k [00:00<?, ?B/s]"
      ]
     },
     "metadata": {},
     "output_type": "display_data"
    },
    {
     "data": {
      "application/vnd.jupyter.widget-view+json": {
       "model_id": "ad2516ecbe5e4865a238f77758ce6649",
       "version_major": 2,
       "version_minor": 0
      },
      "text/plain": [
       "Downloading metadata:   0%|          | 0.00/1.61k [00:00<?, ?B/s]"
      ]
     },
     "metadata": {},
     "output_type": "display_data"
    },
    {
     "name": "stderr",
     "output_type": "stream",
     "text": [
      "Using custom data configuration default\n",
      "Reusing dataset emotion (/home/abdelrahman/.cache/huggingface/datasets/emotion/default/0.0.0/348f63ca8e27b3713b6c04d723efe6d824a56fb3d1449794716c0f0296072705)\n"
     ]
    },
    {
     "data": {
      "application/vnd.jupyter.widget-view+json": {
       "model_id": "18b39e48c752435da6649f3718cc95cd",
       "version_major": 2,
       "version_minor": 0
      },
      "text/plain": [
       "  0%|          | 0/3 [00:00<?, ?it/s]"
      ]
     },
     "metadata": {},
     "output_type": "display_data"
    },
    {
     "data": {
      "text/plain": [
       "DatasetDict({\n",
       "    train: Dataset({\n",
       "        features: ['text', 'label'],\n",
       "        num_rows: 16000\n",
       "    })\n",
       "    validation: Dataset({\n",
       "        features: ['text', 'label'],\n",
       "        num_rows: 2000\n",
       "    })\n",
       "    test: Dataset({\n",
       "        features: ['text', 'label'],\n",
       "        num_rows: 2000\n",
       "    })\n",
       "})"
      ]
     },
     "execution_count": 4,
     "metadata": {},
     "output_type": "execute_result"
    }
   ],
   "source": [
    "emtions_data = load_dataset('emotion')\n",
    "emtions_data"
   ]
  },
  {
   "cell_type": "code",
   "execution_count": 5,
   "id": "8d766fac",
   "metadata": {},
   "outputs": [
    {
     "name": "stdout",
     "output_type": "stream",
     "text": [
      "{'text': Value(dtype='string', id=None), 'label': ClassLabel(num_classes=6, names=['sadness', 'joy', 'love', 'anger', 'fear', 'surprise'], id=None)}\n"
     ]
    }
   ],
   "source": [
    "print(emtions_data['train'].features)"
   ]
  },
  {
   "cell_type": "code",
   "execution_count": 6,
   "id": "14c089dc",
   "metadata": {},
   "outputs": [
    {
     "data": {
      "text/plain": [
       "{'text': ['i didnt feel humiliated',\n",
       "  'i can go from feeling so hopeless to so damned hopeful just from being around someone who cares and is awake',\n",
       "  'im grabbing a minute to post i feel greedy wrong',\n",
       "  'i am ever feeling nostalgic about the fireplace i will know that it is still on the property',\n",
       "  'i am feeling grouchy'],\n",
       " 'label': [0, 0, 3, 2, 3]}"
      ]
     },
     "execution_count": 6,
     "metadata": {},
     "output_type": "execute_result"
    }
   ],
   "source": [
    "emtions_data['train'][:5]"
   ]
  },
  {
   "cell_type": "markdown",
   "id": "7c57d71b",
   "metadata": {},
   "source": [
    "## Use our datasets"
   ]
  },
  {
   "cell_type": "code",
   "execution_count": null,
   "id": "12e6ff8a",
   "metadata": {},
   "outputs": [],
   "source": [
    "strat_train_set = read_file(\"../dataset/dialect_data/train/strat_train_set.csv\")\n",
    "strat_dev_set   = read_file(\"../dataset/dialect_data/validation/strat_dev_set.csv\")\n",
    "strat_test_set  = read_file(\"../dataset/dialect_data/test/strat_test_set.csv\")\n",
    "\n",
    "strat_train_set.columns = ['id', 'label', 'text']\n",
    "strat_dev_set.columns   = ['id', 'label', 'text']\n",
    "strat_test_set.columns  = ['id', 'label', 'text']\n",
    "\n",
    "print(type(strat_train_set))\n",
    "\n",
    "# Convert to Dataset Apache arrow\n",
    "ds_strat_train_set = Dataset.from_pandas(strat_train_set)\n",
    "ds_strat_dev_set   = Dataset.from_pandas(strat_dev_set)\n",
    "ds_strat_test_set  = Dataset.from_pandas(strat_test_set)\n",
    "print(\"=\"*50)\n",
    "\n",
    "print(type(ds_strat_train_set))"
   ]
  },
  {
   "cell_type": "markdown",
   "id": "3a0028d2",
   "metadata": {},
   "source": [
    "# Convert dialect string to class label\n",
    "\n",
    "In this case we can easily convert to the correspond dialect when we need."
   ]
  },
  {
   "cell_type": "code",
   "execution_count": null,
   "id": "c0ef8c1b",
   "metadata": {},
   "outputs": [],
   "source": [
    "labels = list(set(ds_strat_train_set['label']))\n",
    "print(labels)\n",
    "print(\"=\"*50)\n",
    "print(len(labels))\n",
    "print(\"=\"*50)\n",
    "ClassLabels = ClassLabel(num_classes=len(labels), names=labels)\n",
    "print(ClassLabels)"
   ]
  },
  {
   "cell_type": "code",
   "execution_count": null,
   "id": "52654e2e",
   "metadata": {},
   "outputs": [],
   "source": [
    "# Look how the labels are string\n",
    "print(ds_strat_train_set.features)"
   ]
  },
  {
   "cell_type": "code",
   "execution_count": null,
   "id": "489e5a23",
   "metadata": {},
   "outputs": [],
   "source": [
    "# Mapping Labels to IDs\n",
    "def map_dialect_str2int(data):\n",
    "    data['label'] = ClassLabels.str2int(data['label'])\n",
    "    return data\n",
    "\n",
    "ds_strat_train_set = ds_strat_train_set.map(map_dialect_str2int, batched=True)\n",
    "# Casting label column to ClassLabel Object\n",
    "ds_strat_train_set = ds_strat_train_set.cast_column('label', ClassLabels)\n",
    "\n",
    "\n",
    "\n",
    "ds_strat_dev_set = ds_strat_dev_set.map(map_dialect_str2int, batched=True)\n",
    "# Casting label column to ClassLabel Object\n",
    "ds_strat_dev_set = ds_strat_dev_set.cast_column('label', ClassLabels)\n",
    "\n",
    "\n",
    "ds_strat_test_set = ds_strat_test_set.map(map_dialect_str2int, batched=True)\n",
    "# Casting label column to ClassLabel Object\n",
    "ds_strat_test_set = ds_strat_test_set.cast_column('label', ClassLabels)"
   ]
  },
  {
   "cell_type": "code",
   "execution_count": null,
   "id": "0fc18d89",
   "metadata": {},
   "outputs": [],
   "source": [
    "# Look how the labels are now ClassLabels\n",
    "print(ds_strat_train_set.features)"
   ]
  },
  {
   "cell_type": "markdown",
   "id": "7e9d8b8a",
   "metadata": {},
   "source": [
    "# Compare "
   ]
  },
  {
   "cell_type": "code",
   "execution_count": null,
   "id": "f02f3aca",
   "metadata": {},
   "outputs": [],
   "source": [
    "print(\"==================== Check our conversation ====================\")\n",
    "print(list(strat_train_set['label']) == ClassLabels.int2str(ds_strat_train_set['label']))\n",
    "print(list(strat_dev_set['label'])   == ClassLabels.int2str(ds_strat_dev_set['label']))\n",
    "print(list(strat_test_set['label']) == ClassLabels.int2str(ds_strat_test_set['label']))\n",
    "\n",
    "print(list(strat_train_set['label'])[:5])\n",
    "print(ClassLabels.int2str(ds_strat_train_set['label'][:5]))\n",
    "\n",
    "print(\"=\"*50)\n",
    "\n",
    "print(list(strat_dev_set['label'])[:5])\n",
    "print(ClassLabels.int2str(ds_strat_dev_set['label'][:5]))\n",
    "\n",
    "\n",
    "print(\"=\"*50)\n",
    "\n",
    "print(list(strat_test_set['label'])[:5])\n",
    "print(ClassLabels.int2str(ds_strat_test_set['label'][:5]))\n"
   ]
  },
  {
   "cell_type": "code",
   "execution_count": null,
   "id": "6aa8e780",
   "metadata": {},
   "outputs": [],
   "source": [
    "dialect_datasets = DatasetDict()\n",
    "\n",
    "dialect_datasets['train']      = ds_strat_train_set\n",
    "dialect_datasets['validation'] = ds_strat_dev_set\n",
    "dialect_datasets['test']       = ds_strat_test_set\n",
    "\n",
    "dialect_datasets"
   ]
  },
  {
   "cell_type": "code",
   "execution_count": null,
   "id": "db215ee5",
   "metadata": {},
   "outputs": [],
   "source": [
    "print(dialect_datasets['train'].features)\n",
    "print(\"=\"*50)\n",
    "print(dialect_datasets['validation'].features)\n",
    "print(\"=\"*50)\n",
    "print(dialect_datasets['test'].features)"
   ]
  },
  {
   "cell_type": "markdown",
   "id": "c2977717",
   "metadata": {},
   "source": [
    "# Push the data into the hub"
   ]
  },
  {
   "cell_type": "code",
   "execution_count": null,
   "id": "e8dec315",
   "metadata": {},
   "outputs": [],
   "source": [
    "from huggingface_hub import notebook_login\n",
    "\n",
    "notebook_login()"
   ]
  },
  {
   "cell_type": "code",
   "execution_count": null,
   "id": "3a0b3f3d",
   "metadata": {},
   "outputs": [],
   "source": [
    "dialect_datasets.push_to_hub('Abdelrahman-Rezk/Arabic_Dialect_Identification')"
   ]
  },
  {
   "cell_type": "code",
   "execution_count": 8,
   "id": "4d2d76eb",
   "metadata": {},
   "outputs": [
    {
     "name": "stderr",
     "output_type": "stream",
     "text": [
      "Using custom data configuration Abdelrahman-Rezk--Arabic_Dialect_Identification-dd1894ee74477eb1\n"
     ]
    },
    {
     "name": "stdout",
     "output_type": "stream",
     "text": [
      "Downloading and preparing dataset None/None (download: 47.36 MiB, generated: 74.21 MiB, post-processed: Unknown size, total: 121.57 MiB) to /home/abdelrahman/.cache/huggingface/datasets/Abdelrahman-Rezk___parquet/Abdelrahman-Rezk--Arabic_Dialect_Identification-dd1894ee74477eb1/0.0.0/0b6d5799bb726b24ad7fc7be720c170d8e497f575d02d47537de9a5bac074901...\n"
     ]
    },
    {
     "data": {
      "application/vnd.jupyter.widget-view+json": {
       "model_id": "197d632dbcea4a049be3a59139952df8",
       "version_major": 2,
       "version_minor": 0
      },
      "text/plain": [
       "Downloading data files:   0%|          | 0/3 [00:00<?, ?it/s]"
      ]
     },
     "metadata": {},
     "output_type": "display_data"
    },
    {
     "data": {
      "application/vnd.jupyter.widget-view+json": {
       "model_id": "f0c7a018aab449ada63b26faa34f2d42",
       "version_major": 2,
       "version_minor": 0
      },
      "text/plain": [
       "Downloading data:   0%|          | 0.00/975k [00:00<?, ?B/s]"
      ]
     },
     "metadata": {},
     "output_type": "display_data"
    },
    {
     "data": {
      "application/vnd.jupyter.widget-view+json": {
       "model_id": "ce92309f62f041fb8555b491344811d8",
       "version_major": 2,
       "version_minor": 0
      },
      "text/plain": [
       "Downloading data:   0%|          | 0.00/47.7M [00:00<?, ?B/s]"
      ]
     },
     "metadata": {},
     "output_type": "display_data"
    },
    {
     "data": {
      "application/vnd.jupyter.widget-view+json": {
       "model_id": "20a9dc5eb3c74827bf59832e4a402add",
       "version_major": 2,
       "version_minor": 0
      },
      "text/plain": [
       "Downloading data:   0%|          | 0.00/1.00M [00:00<?, ?B/s]"
      ]
     },
     "metadata": {},
     "output_type": "display_data"
    },
    {
     "data": {
      "application/vnd.jupyter.widget-view+json": {
       "model_id": "fe0fe041032649adab7b6e254c118542",
       "version_major": 2,
       "version_minor": 0
      },
      "text/plain": [
       "Extracting data files:   0%|          | 0/3 [00:00<?, ?it/s]"
      ]
     },
     "metadata": {},
     "output_type": "display_data"
    },
    {
     "name": "stdout",
     "output_type": "stream",
     "text": [
      "Dataset parquet downloaded and prepared to /home/abdelrahman/.cache/huggingface/datasets/Abdelrahman-Rezk___parquet/Abdelrahman-Rezk--Arabic_Dialect_Identification-dd1894ee74477eb1/0.0.0/0b6d5799bb726b24ad7fc7be720c170d8e497f575d02d47537de9a5bac074901. Subsequent calls will reuse this data.\n"
     ]
    },
    {
     "data": {
      "application/vnd.jupyter.widget-view+json": {
       "model_id": "6c93c779d6b746a5b53cde1fe53eb1f2",
       "version_major": 2,
       "version_minor": 0
      },
      "text/plain": [
       "  0%|          | 0/3 [00:00<?, ?it/s]"
      ]
     },
     "metadata": {},
     "output_type": "display_data"
    },
    {
     "data": {
      "text/plain": [
       "DatasetDict({\n",
       "    test: Dataset({\n",
       "        features: ['id', 'label', 'text'],\n",
       "        num_rows: 8981\n",
       "    })\n",
       "    train: Dataset({\n",
       "        features: ['id', 'label', 'text'],\n",
       "        num_rows: 440052\n",
       "    })\n",
       "    validation: Dataset({\n",
       "        features: ['id', 'label', 'text'],\n",
       "        num_rows: 9164\n",
       "    })\n",
       "})"
      ]
     },
     "execution_count": 8,
     "metadata": {},
     "output_type": "execute_result"
    }
   ],
   "source": [
    "dialect_datasets = load_dataset('Abdelrahman-Rezk/Arabic_Dialect_Identification')\n",
    "dialect_datasets"
   ]
  },
  {
   "cell_type": "code",
   "execution_count": null,
   "id": "debdf3f9",
   "metadata": {},
   "outputs": [],
   "source": [
    "dialect_datasets['test'][:3]"
   ]
  },
  {
   "cell_type": "code",
   "execution_count": null,
   "id": "eccfbcdf",
   "metadata": {},
   "outputs": [],
   "source": [
    "dicst =dialect_datasets['test'].features"
   ]
  },
  {
   "cell_type": "code",
   "execution_count": null,
   "id": "5071bfe0",
   "metadata": {},
   "outputs": [],
   "source": [
    "import json"
   ]
  },
  {
   "cell_type": "code",
   "execution_count": null,
   "id": "84ce13a3",
   "metadata": {},
   "outputs": [],
   "source": [
    "type(dicst)"
   ]
  },
  {
   "cell_type": "code",
   "execution_count": null,
   "id": "14e45df5",
   "metadata": {},
   "outputs": [],
   "source": [
    "res = json.dumps(dict(dialect_datasets['test'].features), ensure_ascii=False)"
   ]
  },
  {
   "cell_type": "code",
   "execution_count": null,
   "id": "6a4fcdc1",
   "metadata": {},
   "outputs": [],
   "source": [
    "type(dialect_datasets['test'][:3])"
   ]
  },
  {
   "cell_type": "code",
   "execution_count": null,
   "id": "97635f7b",
   "metadata": {},
   "outputs": [],
   "source": [
    "res"
   ]
  },
  {
   "cell_type": "code",
   "execution_count": null,
   "id": "c5435872",
   "metadata": {},
   "outputs": [],
   "source": [
    "s = dict(dialect_datasets['test'].features)"
   ]
  },
  {
   "cell_type": "code",
   "execution_count": null,
   "id": "ae6ea764",
   "metadata": {},
   "outputs": [],
   "source": [
    "s = str(s)\n",
    "s"
   ]
  },
  {
   "cell_type": "code",
   "execution_count": null,
   "id": "4b376d53",
   "metadata": {},
   "outputs": [],
   "source": [
    "res = json.dumps(s, ensure_ascii=False)"
   ]
  },
  {
   "cell_type": "code",
   "execution_count": null,
   "id": "97df34d6",
   "metadata": {},
   "outputs": [],
   "source": [
    "import datasets\n",
    "import transformers"
   ]
  },
  {
   "cell_type": "code",
   "execution_count": null,
   "id": "6796e123",
   "metadata": {},
   "outputs": [],
   "source": [
    "print(datasets.__version__)\n",
    "print(transformers.__version__)"
   ]
  },
  {
   "cell_type": "code",
   "execution_count": null,
   "id": "41883337",
   "metadata": {},
   "outputs": [],
   "source": [
    "datasets"
   ]
  },
  {
   "cell_type": "code",
   "execution_count": null,
   "id": "287fb766",
   "metadata": {},
   "outputs": [],
   "source": [
    "!pip3 install datasets"
   ]
  },
  {
   "cell_type": "code",
   "execution_count": null,
   "id": "bbb3d61d",
   "metadata": {},
   "outputs": [],
   "source": []
  }
 ],
 "metadata": {
  "kernelspec": {
   "display_name": "Python 3",
   "language": "python",
   "name": "python3"
  },
  "language_info": {
   "codemirror_mode": {
    "name": "ipython",
    "version": 3
   },
   "file_extension": ".py",
   "mimetype": "text/x-python",
   "name": "python",
   "nbconvert_exporter": "python",
   "pygments_lexer": "ipython3",
   "version": "3.6.9"
  }
 },
 "nbformat": 4,
 "nbformat_minor": 5
}
